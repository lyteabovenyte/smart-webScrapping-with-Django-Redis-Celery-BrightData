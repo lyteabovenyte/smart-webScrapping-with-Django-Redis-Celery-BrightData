{
 "cells": [
  {
   "cell_type": "code",
   "execution_count": 1,
   "id": "e59303af-3821-4f80-abbb-0866c108c5f1",
   "metadata": {},
   "outputs": [],
   "source": [
    "import setup\n",
    "setup.init_django(project_name='lytehome')"
   ]
  },
  {
   "cell_type": "code",
   "execution_count": 2,
   "id": "7a7f8292-8264-4e98-919d-9a485379844c",
   "metadata": {},
   "outputs": [],
   "source": [
    "import helpers\n",
    "from products.tasks import scrape_product_url_task"
   ]
  },
  {
   "cell_type": "code",
   "execution_count": 3,
   "id": "7543df47-2076-407b-9c35-f1ed93e7e405",
   "metadata": {},
   "outputs": [],
   "source": [
    "url = \"https://www.amazon.com/PlayStation-5-Pro-Console/dp/B0DGY63Z2H/ref=sr_1_1?crid=3DU0012YEDUUA&dib=eyJ2IjoiMSJ9.8Eg1edE22uIGogvIWogArHqZ923QicZbC96fOzOkrgHDu9RFmo1DNRc-HLKjfVR4R8bykSl1ipwUDHELm38CDMFAZeTJKNBPt9saLsmvq8_wmliK6JnEDoK9lnxP96MKOY2P53dp5QjiIL2X_N6FYcEtBBNMcheet4hdFRtKvlTys5YwZfOnYOsAOci4GIxT_GXQuuxfteZ_kVIaKt-4bcUkWoy46yKwkOQ5eXJ9WeA.BV0ASnYwKwTXLYht1i-m95EKt3jI-SuRtkcADMOe57U&dib_tag=se&keywords=ps5&qid=1734130199&sprefix=ps5%2Caps%2C10449&sr=8-1\""
   ]
  },
  {
   "cell_type": "code",
   "execution_count": 4,
   "id": "00dca218-08e1-449e-a588-1b4e51b5a9a1",
   "metadata": {},
   "outputs": [
    {
     "data": {
      "text/plain": [
       "<AsyncResult: f2231979-5c8f-4b57-9726-e7a2f1d48942>"
      ]
     },
     "execution_count": 4,
     "metadata": {},
     "output_type": "execute_result"
    }
   ],
   "source": [
    "scrape_product_url_task.delay(url=url)"
   ]
  },
  {
   "cell_type": "code",
   "execution_count": null,
   "id": "f64195de-2d7c-4b45-8dce-5391e1e227cf",
   "metadata": {},
   "outputs": [],
   "source": []
  }
 ],
 "metadata": {
  "kernelspec": {
   "display_name": "Python 3 (ipykernel)",
   "language": "python",
   "name": "python3"
  },
  "language_info": {
   "codemirror_mode": {
    "name": "ipython",
    "version": 3
   },
   "file_extension": ".py",
   "mimetype": "text/x-python",
   "name": "python",
   "nbconvert_exporter": "python",
   "pygments_lexer": "ipython3",
   "version": "3.13.0"
  }
 },
 "nbformat": 4,
 "nbformat_minor": 5
}
