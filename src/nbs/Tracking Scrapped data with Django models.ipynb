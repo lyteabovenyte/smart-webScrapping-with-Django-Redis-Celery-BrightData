{
 "cells": [
  {
   "cell_type": "code",
   "execution_count": 6,
   "id": "e59303af-3821-4f80-abbb-0866c108c5f1",
   "metadata": {},
   "outputs": [],
   "source": [
    "import setup\n",
    "setup.init_django(project_name='lytehome')"
   ]
  },
  {
   "cell_type": "code",
   "execution_count": 7,
   "id": "7a7f8292-8264-4e98-919d-9a485379844c",
   "metadata": {},
   "outputs": [],
   "source": [
    "import helpers\n",
    "from products.models import ProductScrapeEvent"
   ]
  },
  {
   "cell_type": "code",
   "execution_count": 8,
   "id": "7543df47-2076-407b-9c35-f1ed93e7e405",
   "metadata": {},
   "outputs": [],
   "source": [
    "url = \"https://www.amazon.com/adidas-Unisex-Adult-League-Soccer-Metallic/dp/B0CKWPR247/ref=sr_1_27?crid=22B5U23N85XG1&dib=eyJ2IjoiMSJ9.dh6KNWnxoSMGZJ2xoyI4YYa6_KpwHqKMXt80NS1mqGcIRCDl0JWZ_NdGX6wwaQYGXl8BLdE6NGJ7PxR5h5OTOERdTe5It_eG4RuNx-gyuFEsmtsrgBVK4FYLzI6d7ShyPurGcnCE7XD8g3jjHrzM9dJRz4K0PgdKOgTiHtbVxX2E96lX_tih-9ddhyGJEo3Sdn3U12BM5o7o_DTNhd6ncIwbMkp1QChP1SNzMEnkP7MdQPUZ4rxS1Nh2RS8mzKPz-OL4mERCswYc6PnTmDoE3Q82KX4uHHhln80FjIMg0t4yTLSCFOw2po7rX60MKt7UQw8iAruQR6-K6fH_vO_muRIQsG0RsW5mogvAWeEnZjARsu-nH9ViDDqOl6LHIgUEll06nZkphGCbwu7TgwBLfGJdCx55OunxWH0cWO9mG_o-qo-ONgvZvubsWLBpfnJB.xXvcEqHL9bVunIXqpUL3MYp36TWnPlE3oBN1VUoVRhQ&dib_tag=se&keywords=soccer%2Bball&qid=1734117148&sprefix=soccer%2B%2Caps%2C479&sr=8-27&th=1\""
   ]
  },
  {
   "cell_type": "code",
   "execution_count": 9,
   "id": "24fed2b3-14d5-48ae-ae3c-3be021df07fe",
   "metadata": {},
   "outputs": [
    {
     "name": "stdout",
     "output_type": "stream",
     "text": [
      "Connecting to Scraping Browser...\n",
      "Connected! Navigating...https://www.amazon.com/adidas-Unisex-Adult-League-Soccer-Metallic/dp/B0CKWPR247/ref=sr_1_27?crid=22B5U23N85XG1&dib=eyJ2IjoiMSJ9.dh6KNWnxoSMGZJ2xoyI4YYa6_KpwHqKMXt80NS1mqGcIRCDl0JWZ_NdGX6wwaQYGXl8BLdE6NGJ7PxR5h5OTOERdTe5It_eG4RuNx-gyuFEsmtsrgBVK4FYLzI6d7ShyPurGcnCE7XD8g3jjHrzM9dJRz4K0PgdKOgTiHtbVxX2E96lX_tih-9ddhyGJEo3Sdn3U12BM5o7o_DTNhd6ncIwbMkp1QChP1SNzMEnkP7MdQPUZ4rxS1Nh2RS8mzKPz-OL4mERCswYc6PnTmDoE3Q82KX4uHHhln80FjIMg0t4yTLSCFOw2po7rX60MKt7UQw8iAruQR6-K6fH_vO_muRIQsG0RsW5mogvAWeEnZjARsu-nH9ViDDqOl6LHIgUEll06nZkphGCbwu7TgwBLfGJdCx55OunxWH0cWO9mG_o-qo-ONgvZvubsWLBpfnJB.xXvcEqHL9bVunIXqpUL3MYp36TWnPlE3oBN1VUoVRhQ&dib_tag=se&keywords=soccer%2Bball&qid=1734117148&sprefix=soccer%2B%2Caps%2C479&sr=8-27&th=1\n",
      "Taking page screenshot to file page.png\n",
      "Navigated! Scraping page content...\n"
     ]
    },
    {
     "ename": "WebDriverException",
     "evalue": "Message: Session \"7ccbee45-762e-43b2-b9c9-33d97c3cf46a\" not found\n",
     "output_type": "error",
     "traceback": [
      "\u001b[0;31m---------------------------------------------------------------------------\u001b[0m",
      "\u001b[0;31mWebDriverException\u001b[0m                        Traceback (most recent call last)",
      "Cell \u001b[0;32mIn[9], line 1\u001b[0m\n\u001b[0;32m----> 1\u001b[0m html \u001b[38;5;241m=\u001b[39m \u001b[43mhelpers\u001b[49m\u001b[38;5;241;43m.\u001b[39;49m\u001b[43mscrape\u001b[49m\u001b[43m(\u001b[49m\u001b[43murl\u001b[49m\u001b[38;5;241;43m=\u001b[39;49m\u001b[43murl\u001b[49m\u001b[43m)\u001b[49m\n\u001b[1;32m      2\u001b[0m data \u001b[38;5;241m=\u001b[39m helpers\u001b[38;5;241m.\u001b[39mextract_amazon_product_data(html\u001b[38;5;241m=\u001b[39mhtml)\n",
      "File \u001b[0;32m~/Dev/github/smart-webScrapping-with-Django-Redis-Celery-BrightData/smart-webScrapping-with-Django-Redis-Celery-BrightData/src/helpers/brightdata.py:12\u001b[0m, in \u001b[0;36mscrape\u001b[0;34m(url)\u001b[0m\n\u001b[1;32m     10\u001b[0m sbr_connection \u001b[38;5;241m=\u001b[39m ChromiumRemoteConnection(SBR_WEBDRIVER, \u001b[38;5;124m'\u001b[39m\u001b[38;5;124mgoog\u001b[39m\u001b[38;5;124m'\u001b[39m, \u001b[38;5;124m'\u001b[39m\u001b[38;5;124mchrome\u001b[39m\u001b[38;5;124m'\u001b[39m)\n\u001b[1;32m     11\u001b[0m html \u001b[38;5;241m=\u001b[39m \u001b[38;5;124m\"\u001b[39m\u001b[38;5;124m\"\u001b[39m\n\u001b[0;32m---> 12\u001b[0m \u001b[38;5;28;01mwith\u001b[39;00m \u001b[43mRemote\u001b[49m\u001b[43m(\u001b[49m\u001b[43msbr_connection\u001b[49m\u001b[43m,\u001b[49m\u001b[43m \u001b[49m\u001b[43moptions\u001b[49m\u001b[38;5;241;43m=\u001b[39;49m\u001b[43mChromeOptions\u001b[49m\u001b[43m(\u001b[49m\u001b[43m)\u001b[49m\u001b[43m)\u001b[49m \u001b[38;5;28;01mas\u001b[39;00m driver:\n\u001b[1;32m     13\u001b[0m     \u001b[38;5;28mprint\u001b[39m(\u001b[38;5;124mf\u001b[39m\u001b[38;5;124m'\u001b[39m\u001b[38;5;124mConnected! Navigating...\u001b[39m\u001b[38;5;132;01m{\u001b[39;00murl\u001b[38;5;132;01m}\u001b[39;00m\u001b[38;5;124m'\u001b[39m)\n\u001b[1;32m     14\u001b[0m     driver\u001b[38;5;241m.\u001b[39mget(url)\n",
      "File \u001b[0;32m~/Dev/github/smart-webScrapping-with-Django-Redis-Celery-BrightData/smart-webScrapping-with-Django-Redis-Celery-BrightData/venv/lib/python3.13/site-packages/selenium/webdriver/remote/webdriver.py:259\u001b[0m, in \u001b[0;36mWebDriver.__exit__\u001b[0;34m(self, exc_type, exc, traceback)\u001b[0m\n\u001b[1;32m    253\u001b[0m \u001b[38;5;28;01mdef\u001b[39;00m \u001b[38;5;21m__exit__\u001b[39m(\n\u001b[1;32m    254\u001b[0m     \u001b[38;5;28mself\u001b[39m,\n\u001b[1;32m    255\u001b[0m     exc_type: typing\u001b[38;5;241m.\u001b[39mOptional[typing\u001b[38;5;241m.\u001b[39mType[\u001b[38;5;167;01mBaseException\u001b[39;00m]],\n\u001b[1;32m    256\u001b[0m     exc: typing\u001b[38;5;241m.\u001b[39mOptional[\u001b[38;5;167;01mBaseException\u001b[39;00m],\n\u001b[1;32m    257\u001b[0m     traceback: typing\u001b[38;5;241m.\u001b[39mOptional[types\u001b[38;5;241m.\u001b[39mTracebackType],\n\u001b[1;32m    258\u001b[0m ):\n\u001b[0;32m--> 259\u001b[0m     \u001b[38;5;28;43mself\u001b[39;49m\u001b[38;5;241;43m.\u001b[39;49m\u001b[43mquit\u001b[49m\u001b[43m(\u001b[49m\u001b[43m)\u001b[49m\n",
      "File \u001b[0;32m~/Dev/github/smart-webScrapping-with-Django-Redis-Celery-BrightData/smart-webScrapping-with-Django-Redis-Celery-BrightData/venv/lib/python3.13/site-packages/selenium/webdriver/remote/webdriver.py:506\u001b[0m, in \u001b[0;36mWebDriver.quit\u001b[0;34m(self)\u001b[0m\n\u001b[1;32m    498\u001b[0m \u001b[38;5;250m\u001b[39m\u001b[38;5;124;03m\"\"\"Quits the driver and closes every associated window.\u001b[39;00m\n\u001b[1;32m    499\u001b[0m \n\u001b[1;32m    500\u001b[0m \u001b[38;5;124;03m:Usage:\u001b[39;00m\n\u001b[0;32m   (...)\u001b[0m\n\u001b[1;32m    503\u001b[0m \u001b[38;5;124;03m        driver.quit()\u001b[39;00m\n\u001b[1;32m    504\u001b[0m \u001b[38;5;124;03m\"\"\"\u001b[39;00m\n\u001b[1;32m    505\u001b[0m \u001b[38;5;28;01mtry\u001b[39;00m:\n\u001b[0;32m--> 506\u001b[0m     \u001b[38;5;28;43mself\u001b[39;49m\u001b[38;5;241;43m.\u001b[39;49m\u001b[43mexecute\u001b[49m\u001b[43m(\u001b[49m\u001b[43mCommand\u001b[49m\u001b[38;5;241;43m.\u001b[39;49m\u001b[43mQUIT\u001b[49m\u001b[43m)\u001b[49m\n\u001b[1;32m    507\u001b[0m \u001b[38;5;28;01mfinally\u001b[39;00m:\n\u001b[1;32m    508\u001b[0m     \u001b[38;5;28mself\u001b[39m\u001b[38;5;241m.\u001b[39mstop_client()\n",
      "File \u001b[0;32m~/Dev/github/smart-webScrapping-with-Django-Redis-Celery-BrightData/smart-webScrapping-with-Django-Redis-Celery-BrightData/venv/lib/python3.13/site-packages/selenium/webdriver/remote/webdriver.py:384\u001b[0m, in \u001b[0;36mWebDriver.execute\u001b[0;34m(self, driver_command, params)\u001b[0m\n\u001b[1;32m    382\u001b[0m response \u001b[38;5;241m=\u001b[39m \u001b[38;5;28mself\u001b[39m\u001b[38;5;241m.\u001b[39mcommand_executor\u001b[38;5;241m.\u001b[39mexecute(driver_command, params)\n\u001b[1;32m    383\u001b[0m \u001b[38;5;28;01mif\u001b[39;00m response:\n\u001b[0;32m--> 384\u001b[0m     \u001b[38;5;28;43mself\u001b[39;49m\u001b[38;5;241;43m.\u001b[39;49m\u001b[43merror_handler\u001b[49m\u001b[38;5;241;43m.\u001b[39;49m\u001b[43mcheck_response\u001b[49m\u001b[43m(\u001b[49m\u001b[43mresponse\u001b[49m\u001b[43m)\u001b[49m\n\u001b[1;32m    385\u001b[0m     response[\u001b[38;5;124m\"\u001b[39m\u001b[38;5;124mvalue\u001b[39m\u001b[38;5;124m\"\u001b[39m] \u001b[38;5;241m=\u001b[39m \u001b[38;5;28mself\u001b[39m\u001b[38;5;241m.\u001b[39m_unwrap_value(response\u001b[38;5;241m.\u001b[39mget(\u001b[38;5;124m\"\u001b[39m\u001b[38;5;124mvalue\u001b[39m\u001b[38;5;124m\"\u001b[39m, \u001b[38;5;28;01mNone\u001b[39;00m))\n\u001b[1;32m    386\u001b[0m     \u001b[38;5;28;01mreturn\u001b[39;00m response\n",
      "File \u001b[0;32m~/Dev/github/smart-webScrapping-with-Django-Redis-Celery-BrightData/smart-webScrapping-with-Django-Redis-Celery-BrightData/venv/lib/python3.13/site-packages/selenium/webdriver/remote/errorhandler.py:232\u001b[0m, in \u001b[0;36mErrorHandler.check_response\u001b[0;34m(self, response)\u001b[0m\n\u001b[1;32m    230\u001b[0m         alert_text \u001b[38;5;241m=\u001b[39m value[\u001b[38;5;124m\"\u001b[39m\u001b[38;5;124malert\u001b[39m\u001b[38;5;124m\"\u001b[39m]\u001b[38;5;241m.\u001b[39mget(\u001b[38;5;124m\"\u001b[39m\u001b[38;5;124mtext\u001b[39m\u001b[38;5;124m\"\u001b[39m)\n\u001b[1;32m    231\u001b[0m     \u001b[38;5;28;01mraise\u001b[39;00m exception_class(message, screen, stacktrace, alert_text)  \u001b[38;5;66;03m# type: ignore[call-arg]  # mypy is not smart enough here\u001b[39;00m\n\u001b[0;32m--> 232\u001b[0m \u001b[38;5;28;01mraise\u001b[39;00m exception_class(message, screen, stacktrace)\n",
      "\u001b[0;31mWebDriverException\u001b[0m: Message: Session \"7ccbee45-762e-43b2-b9c9-33d97c3cf46a\" not found\n"
     ]
    }
   ],
   "source": [
    "html = helpers.scrape(url=url)\n",
    "data = helpers.extract_amazon_product_data(html=html)"
   ]
  },
  {
   "cell_type": "code",
   "execution_count": null,
   "id": "57a1eda7-19c8-4325-99e0-9a03addb6d55",
   "metadata": {},
   "outputs": [],
   "source": [
    "ProductScrapeEvent.objects.create_scrape_event(data, url=url)"
   ]
  },
  {
   "cell_type": "code",
   "execution_count": null,
   "id": "a3d7aef4-0868-4279-87fc-5a3e8e018aef",
   "metadata": {},
   "outputs": [],
   "source": [
    "qs = ProductScrapeEvent.objects.all()\n",
    "qs"
   ]
  },
  {
   "cell_type": "code",
   "execution_count": null,
   "id": "098fc66d-d152-4416-b4ec-a96c576f856f",
   "metadata": {},
   "outputs": [],
   "source": [
    "products_qs = Product.objects.all()\n",
    "products_qs"
   ]
  },
  {
   "cell_type": "code",
   "execution_count": null,
   "id": "00dca218-08e1-449e-a588-1b4e51b5a9a1",
   "metadata": {},
   "outputs": [],
   "source": []
  }
 ],
 "metadata": {
  "kernelspec": {
   "display_name": "Python 3 (ipykernel)",
   "language": "python",
   "name": "python3"
  },
  "language_info": {
   "codemirror_mode": {
    "name": "ipython",
    "version": 3
   },
   "file_extension": ".py",
   "mimetype": "text/x-python",
   "name": "python",
   "nbconvert_exporter": "python",
   "pygments_lexer": "ipython3",
   "version": "3.13.0"
  }
 },
 "nbformat": 4,
 "nbformat_minor": 5
}
