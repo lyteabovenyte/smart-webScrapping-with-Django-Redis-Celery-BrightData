{
 "cells": [
  {
   "cell_type": "code",
   "execution_count": 1,
   "metadata": {},
   "outputs": [
    {
     "name": "stdout",
     "output_type": "stream",
     "text": [
      "/Users/lyteatnyte/.zshenv:4: permission denied: /Users/lyteatnyte/go\n",
      "/Users/lyteatnyte/Dev/github/smart-webScrapping-with-Django-Redis-Celery-BrightData/smart-webScrapping-with-Django-Redis-Celery-BrightData/src/nbs\n"
     ]
    }
   ],
   "source": [
    "!pwd"
   ]
  },
  {
   "cell_type": "code",
   "execution_count": 2,
   "metadata": {},
   "outputs": [],
   "source": [
    "import setup\n",
    "setup.init_django(project_name='lytehome')"
   ]
  },
  {
   "cell_type": "code",
   "execution_count": 3,
   "metadata": {},
   "outputs": [
    {
     "name": "stdout",
     "output_type": "stream",
     "text": [
      "/Users/lyteatnyte/.zshenv:4: permission denied: /Users/lyteatnyte/go\n",
      "/Users/lyteatnyte/Dev/github/smart-webScrapping-with-Django-Redis-Celery-BrightData/smart-webScrapping-with-Django-Redis-Celery-BrightData/src\n"
     ]
    }
   ],
   "source": [
    "!pwd"
   ]
  },
  {
   "cell_type": "code",
   "execution_count": 4,
   "metadata": {},
   "outputs": [],
   "source": [
    "import helpers"
   ]
  },
  {
   "cell_type": "code",
   "execution_count": 5,
   "metadata": {},
   "outputs": [],
   "source": [
    "url = \"https://www.amazon.com/Designing-Data-Intensive-Applications-Reliable-Maintainable/dp/1449373321/ref=sr_1_1?crid=33PO0XQTKLNL9&dib=eyJ2IjoiMSJ9.uKKyaNHuzp5D7DchHIgwHiFMxJQNhcn1xWI8msoncIdXEyiMRWo2c-g8B_r_qt4rWx-lby2zpZHjbPMTuIf7CAtpsg4HhSHtaeL6nnprnMvkVHPs80cpPJ6RkdyC9oQTuH78e7iKxRlD2IcoQ55builFu3N-JgAz8-89ND7ZDDp2RF_N_Kn5TuJEbBbNA0bzeuzT33nqzld-x1P4cJOjeQFpdID1Sp5FUiSNMN02e18.eIa1sxYsNN9swgG73LuBRH3BgDbECwyTnRH9-A5nwZo&dib_tag=se&keywords=designing+data+intensive+application&qid=1734104019&sprefix=designing+data+intensive+application%2Caps%2C850&sr=8-1\""
   ]
  },
  {
   "cell_type": "code",
   "execution_count": 6,
   "metadata": {},
   "outputs": [],
   "source": [
    "from bs4 import BeautifulSoup"
   ]
  },
  {
   "cell_type": "code",
   "execution_count": 8,
   "metadata": {},
   "outputs": [
    {
     "name": "stdout",
     "output_type": "stream",
     "text": [
      "Connecting to Scraping Browser...\n"
     ]
    },
    {
     "name": "stderr",
     "output_type": "stream",
     "text": [
      "/Users/lyteatnyte/Dev/github/smart-webScrapping-with-Django-Redis-Celery-BrightData/smart-webScrapping-with-Django-Redis-Celery-BrightData/venv/lib/python3.13/site-packages/selenium/webdriver/remote/remote_connection.py:418: UserWarning: Embedding username and password in URL could be insecure, use ClientConfig instead\n",
      "  headers = self.get_remote_connection_headers(parsed_url, self._client_config.keep_alive)\n"
     ]
    },
    {
     "name": "stdout",
     "output_type": "stream",
     "text": [
      "Connected! Navigating...https://www.amazon.com/Designing-Data-Intensive-Applications-Reliable-Maintainable/dp/1449373321/ref=sr_1_1?crid=33PO0XQTKLNL9&dib=eyJ2IjoiMSJ9.uKKyaNHuzp5D7DchHIgwHiFMxJQNhcn1xWI8msoncIdXEyiMRWo2c-g8B_r_qt4rWx-lby2zpZHjbPMTuIf7CAtpsg4HhSHtaeL6nnprnMvkVHPs80cpPJ6RkdyC9oQTuH78e7iKxRlD2IcoQ55builFu3N-JgAz8-89ND7ZDDp2RF_N_Kn5TuJEbBbNA0bzeuzT33nqzld-x1P4cJOjeQFpdID1Sp5FUiSNMN02e18.eIa1sxYsNN9swgG73LuBRH3BgDbECwyTnRH9-A5nwZo&dib_tag=se&keywords=designing+data+intensive+application&qid=1734104019&sprefix=designing+data+intensive+application%2Caps%2C850&sr=8-1\n",
      "Taking page screenshot to file page.png\n",
      "Navigated! Scraping page content...\n"
     ]
    }
   ],
   "source": [
    "html = helpers.scrape(url=url)"
   ]
  },
  {
   "cell_type": "code",
   "execution_count": 11,
   "metadata": {},
   "outputs": [],
   "source": [
    "soup = BeautifulSoup(html)"
   ]
  },
  {
   "cell_type": "markdown",
   "metadata": {},
   "source": [
    "```html\n",
    "<span id=\"productTitle\" class=\"a-size-large celwidget\" data-csa-c-id=\"vbrt5a-bj0ca2-8e8zg3-ptk8iy\" data-cel-widget=\"productTitle\">\n",
    "    Designing Data-Intensive Applications: The Big Ideas Behind Reliable, Scalable, and Maintainable Systems \n",
    "</span>\n",
    "\n",
    "<div class=\"a-section a-spacing-none\">\n",
    "    <h1 id=\"title\" class=\"a-spacing-none a-text-normal\">\n",
    "        <span id=\"productTitle\" class=\"a-size-large celwidget\" data-csa-c-id=\"vbrt5a-bj0ca2-8e8zg3-ptk8iy\" data-cel-widget=\"productTitle\">  Designing Data-Intensive Applications: The Big Ideas Behind Reliable, Scalable, and Maintainable Systems </span>\n",
    "        <span id=\"productSubtitle\" class=\"a-size-medium a-color-secondary celwidget\" data-csa-c-id=\"4ogrx6-vo7wcf-vy0pnf-d4o9di\" data-cel-widget=\"productSubtitle\">\n",
    "            1st Edition\n",
    "        </span>\n",
    "    </h1>\n",
    "</div>\n",
    "```"
   ]
  },
  {
   "cell_type": "code",
   "execution_count": 15,
   "metadata": {},
   "outputs": [
    {
     "data": {
      "text/plain": [
       "'Designing Data-Intensive Applications: The Big Ideas Behind Reliable, Scalable, and Maintainable Systems'"
      ]
     },
     "execution_count": 15,
     "metadata": {},
     "output_type": "execute_result"
    }
   ],
   "source": [
    "productTitle = soup.find('span', id='productTitle')\n",
    "productTitleText = f'{productTitle.text}'.strip()\n",
    "productTitleText"
   ]
  },
  {
   "cell_type": "markdown",
   "metadata": {},
   "source": [
    "```html\n",
    "<span class=\"a-price-whole\">\n",
    "    48\n",
    "    <span class=\"a-price-decimal\">\n",
    "        .\n",
    "    </span>\n",
    "</span>\n",
    "```"
   ]
  },
  {
   "cell_type": "code",
   "execution_count": 22,
   "metadata": {},
   "outputs": [
    {
     "data": {
      "text/plain": [
       "48.0"
      ]
     },
     "execution_count": 22,
     "metadata": {},
     "output_type": "execute_result"
    }
   ],
   "source": [
    "productPrice = soup.find_all('span', class_='a-price-whole')[0]\n",
    "productPriceText = \"\".join([x for x in f\"{productPrice.text}\".strip() if x.isdigit() or x == \".\"])\n",
    "productPriceNum = float(productPriceText)\n",
    "productPriceNum"
   ]
  }
 ],
 "metadata": {
  "kernelspec": {
   "display_name": "venv",
   "language": "python",
   "name": "python3"
  },
  "language_info": {
   "codemirror_mode": {
    "name": "ipython",
    "version": 3
   },
   "file_extension": ".py",
   "mimetype": "text/x-python",
   "name": "python",
   "nbconvert_exporter": "python",
   "pygments_lexer": "ipython3",
   "version": "3.13.0"
  }
 },
 "nbformat": 4,
 "nbformat_minor": 4
}
