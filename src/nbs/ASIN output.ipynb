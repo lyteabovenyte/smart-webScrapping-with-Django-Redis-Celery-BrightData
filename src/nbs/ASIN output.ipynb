{
 "cells": [
  {
   "cell_type": "code",
   "execution_count": 3,
   "id": "2201a43f-5cc3-4853-8471-a58ba715c614",
   "metadata": {},
   "outputs": [],
   "source": [
    "import setup\n",
    "setup.init_django(project_name='lytehome')"
   ]
  },
  {
   "cell_type": "code",
   "execution_count": 5,
   "id": "be56298d-8a95-471b-b73f-0db4462cf719",
   "metadata": {},
   "outputs": [],
   "source": [
    "import helpers"
   ]
  },
  {
   "cell_type": "code",
   "execution_count": 7,
   "id": "82c1558e-e091-489c-858a-84b717c15bd0",
   "metadata": {},
   "outputs": [],
   "source": [
    "url = \"https://www.amazon.com/Playstation-PS5-Console-Fortnite-Digital-5/dp/B0DJHG2VVS/ref=sr_1_1?crid=7JUA46RHH9I1&dib=eyJ2IjoiMSJ9.2HIIwJJ2kFJOQsSo4Cr-3UZqiUiWI34lHk30YqvJcPQFta3uFinBWXn8ciCu2QS6d7UJKjwebgYumcQceGMkzhhvan2Qra8STM5yBjBxwN1oCUZJRNWDomRJyTbrm-bnIbMfWT1tjnNb6pz6-H7UhXMFcIpFyA9TJqWLAyZPmkCBZoPk3EdZd_3WbbAm9Wwp3Rc4fqBYd808YJg7IBhUmIX2uxnMpKlRhhQz4hZW7as.s9RgsUvDFAYop42BKQC8SqsXNYaJe-JvtOfDyRPGAnc&dib_tag=se&keywords=ps5&qid=1734110304&sprefix=p%2Caps%2C528&sr=8-1&th=1\""
   ]
  },
  {
   "cell_type": "code",
   "execution_count": 8,
   "id": "fac0f5a8-703d-4461-beb7-32704d7e7370",
   "metadata": {},
   "outputs": [],
   "source": [
    "from bs4 import BeautifulSoup"
   ]
  },
  {
   "cell_type": "code",
   "execution_count": 10,
   "id": "44387f28-078a-47af-b65a-74d62ba7de69",
   "metadata": {},
   "outputs": [
    {
     "name": "stdout",
     "output_type": "stream",
     "text": [
      "Connecting to Scraping Browser...\n",
      "Connected! Navigating...https://www.amazon.com/Playstation-PS5-Console-Fortnite-Digital-5/dp/B0DJHG2VVS/ref=sr_1_1?crid=7JUA46RHH9I1&dib=eyJ2IjoiMSJ9.2HIIwJJ2kFJOQsSo4Cr-3UZqiUiWI34lHk30YqvJcPQFta3uFinBWXn8ciCu2QS6d7UJKjwebgYumcQceGMkzhhvan2Qra8STM5yBjBxwN1oCUZJRNWDomRJyTbrm-bnIbMfWT1tjnNb6pz6-H7UhXMFcIpFyA9TJqWLAyZPmkCBZoPk3EdZd_3WbbAm9Wwp3Rc4fqBYd808YJg7IBhUmIX2uxnMpKlRhhQz4hZW7as.s9RgsUvDFAYop42BKQC8SqsXNYaJe-JvtOfDyRPGAnc&dib_tag=se&keywords=ps5&qid=1734110304&sprefix=p%2Caps%2C528&sr=8-1&th=1\n",
      "Taking page screenshot to file page.png\n",
      "Navigated! Scraping page content...\n"
     ]
    }
   ],
   "source": [
    "html = helpers.scrape(url=url)"
   ]
  },
  {
   "cell_type": "code",
   "execution_count": 11,
   "id": "d4bd599a-ea27-427b-b75b-c4a2cad64be5",
   "metadata": {},
   "outputs": [],
   "source": [
    "soup = BeautifulSoup(html)"
   ]
  },
  {
   "cell_type": "code",
   "execution_count": 19,
   "id": "24767896-9996-4d2d-8a52-3ee61a2bb846",
   "metadata": {},
   "outputs": [],
   "source": [
    "def find_product_table_data(html):\n",
    "    soup = BeautifulSoup(html, \"html.parser\")\n",
    "    product_data = soup.find('div', id='prodDetails')\n",
    "    if product_data is None:\n",
    "         return []\n",
    "    table = product_data.find('table')\n",
    "    columns = [f\"{x.text}\".strip() for x in table.find_all('th')]\n",
    "    table_data=[]\n",
    "    for i, row in enumerate(table.find_all('tr')):  # [1:] to skip the header row\n",
    "        # Get all cells in the row\n",
    "        cells = row.find_all('td')\n",
    "        # Create a dictionary for the current row, mapping header to cell data\n",
    "        row_data = {columns[i]: f'{cell.text}'.strip() for cell in cells}\n",
    "        # Add the dictionary to your list\n",
    "        table_data.append(row_data)\n",
    "    return table_data"
   ]
  },
  {
   "cell_type": "code",
   "execution_count": 20,
   "id": "72dc7b4a-41d9-4e55-8b33-da32859f7aac",
   "metadata": {},
   "outputs": [],
   "source": [
    "def find_product_rating(html):\n",
    "    soup = BeautifulSoup(html, \"html.parser\")\n",
    "    average_rating = soup.find(id='averageCustomerReviews').find_all(\"span\", class_='a-size-base')[0].text.strip()\n",
    "    average_rating = \"\".join([x for x in f\"{average_rating}\".strip() if x.isdigit() or x == '.'])\n",
    "    average_rating = float(average_rating)\n",
    "    rating_data = soup.find(id='acrCustomerReviewText').text\n",
    "    rating_count = int(''.join([x for x in rating_data if x.isdigit()]))\n",
    "    rating_count\n",
    "    return {\n",
    "        'average': average_rating,\n",
    "        'count': rating_count,\n",
    "    }"
   ]
  },
  {
   "cell_type": "code",
   "execution_count": 21,
   "id": "b3f83317-f9ee-4589-b1d7-945370de84de",
   "metadata": {},
   "outputs": [],
   "source": [
    "def extract_amazon_product_data(html):\n",
    "    soup = BeautifulSoup(html, \"html.parser\")\n",
    "    productTitle = soup.find('span', id='productTitle')\n",
    "    productTitleText = f\"{productTitle.text}\".strip()\n",
    "    productPrice = soup.find_all('span', class_='a-price-whole')[0]\n",
    "    productPrice = f\"{productPrice.text}\".strip()\n",
    "    productPriceText = \"\".join([x for x in productPrice if x.isdigit() or x == '.'])\n",
    "    productPriceNum = float(productPriceText)\n",
    "    try:\n",
    "        productDescription = soup.find('div', id='productDescription').text\n",
    "    except:\n",
    "        productDescription = ''\n",
    "    featureBullets = soup.find('div', id='feature-bullets').text\n",
    "    asin = ''\n",
    "    metadata_items = find_product_table_data(html)\n",
    "    for data in metadata_items:\n",
    "        if data.get(\"ASIN\") is None:\n",
    "            continue\n",
    "        else:\n",
    "            asin = data.get(\"ASIN\")\n",
    "            break\n",
    "    return {\n",
    "        'asin': asin,\n",
    "        'title': productTitleText,\n",
    "        'price_raw': productPrice,\n",
    "        'price_text': productPriceText,\n",
    "        'price': productPriceNum,\n",
    "        'metadata': metadata_items,\n",
    "        'description': productDescription,\n",
    "        'feature_bullets': featureBullets,\n",
    "        'rating': find_product_rating(html)\n",
    "    }"
   ]
  },
  {
   "cell_type": "code",
   "execution_count": 22,
   "id": "353298f4-0123-44f1-857b-64dd73cf7d81",
   "metadata": {},
   "outputs": [
    {
     "name": "stdout",
     "output_type": "stream",
     "text": [
      "{'asin': 'B0DJHG2VVS', 'title': 'Playstation PS5 Console - Fortnite Cobalt Star Digital Edition', 'price_raw': '73.', 'price_text': '73.', 'price': 73.0, 'metadata': [{'ASIN': 'B0DJHG2VVS'}, {'Release date': 'November 22, 2024'}, {'Customer Reviews': '4.7  4.7 out of 5 stars    \\n    8,847 ratings   \\n\\n\\n 4.7 out of 5 stars'}, {'Best Sellers Rank': '#252 in Video Games (See Top 100 in Video Games)  #4 in PlayStation 5 Consoles'}, {'Product Dimensions': '14.6 x 17 x 5.1 inches; 8.96 Pounds'}, {'Type of item': 'Video Game'}, {'Language': 'English'}, {'Rated': 'Teen'}, {'Item Weight': '8.96 pounds'}, {'Manufacturer': 'Sony Interactive Entertainment'}, {'Batteries': '1 Lithium Ion batteries required. (included)'}, {'Date First Available': 'November 22, 2024'}], 'description': ' \\n Upgrade your Fortnite experience with the PS5® Digital Edition - Fortnite® Cobalt Star Bundle. This bundle comes with a PS5 console + 8 in-game cosmetics (estimated value of 5,000 V-Bucks) and 1,000 V-Bucks for use in Fortnite.  ', 'feature_bullets': ' \\n About this item    Fortnite Cobalt Star pack includes:    Cobalt Snowfoot Outfit (with LEGO Style), Sapphire Star Back Bling, Indigo Inverter Pickaxe    Weathered Snow Stripes Wrap, Cobalt Crash Drums, Krackle Boost (Gold Painted Style)    Discotheque Wheels (Gold Painted Style), Stella Trail (Gold Painted Style, 1,000 V-Bucks    PlayStation 5 Experience lightning fast loading with an ultra-high speed SSD, deeper immersion with support for haptic feedback, adaptive triggers, and 3D Audio2, and an all-new generation of incredible PlayStation games.    Lightning Speed Harness the power of a custom CPU, GPU, and SSD with Integrated I/O that rewrite the rules of what a PlayStation console can do.    Stunning Games Marvel at incredible graphics and experience new PS5 features. Play a back catalog of supported PS4 games.    \\n   Breathtaking Immersion Discover a deeper gaming experience with support for haptic feedback, adaptive triggers, and 3D Audio2 technology. Vertical stand sold separately.   Show more   ›  See more product details   ', 'rating': {'average': 4.7, 'count': 8847}}\n"
     ]
    }
   ],
   "source": [
    "print(extract_amazon_product_data(html))"
   ]
  }
 ],
 "metadata": {
  "kernelspec": {
   "display_name": "Python 3 (ipykernel)",
   "language": "python",
   "name": "python3"
  },
  "language_info": {
   "codemirror_mode": {
    "name": "ipython",
    "version": 3
   },
   "file_extension": ".py",
   "mimetype": "text/x-python",
   "name": "python",
   "nbconvert_exporter": "python",
   "pygments_lexer": "ipython3",
   "version": "3.13.0"
  }
 },
 "nbformat": 4,
 "nbformat_minor": 5
}
